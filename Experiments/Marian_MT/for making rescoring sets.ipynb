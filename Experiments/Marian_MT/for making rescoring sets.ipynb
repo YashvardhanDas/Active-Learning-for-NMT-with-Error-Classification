{
 "cells": [
  {
   "cell_type": "code",
   "execution_count": 1,
   "metadata": {},
   "outputs": [],
   "source": [
    "import pandas as pd\n",
    "df = pd.read_csv('train_with_scores.csv')"
   ]
  },
  {
   "cell_type": "code",
   "execution_count": 2,
   "metadata": {},
   "outputs": [],
   "source": [
    "df_s = df.head(-7)\n",
    "df_s = df_s.dropna()\n",
    "df_s = df_s.drop('Unnamed: 0', 1)\n",
    "\n",
    "df_s.to_csv('wmt_with_scores_clean.csv',index=False)"
   ]
  },
  {
   "cell_type": "code",
   "execution_count": 2,
   "metadata": {},
   "outputs": [
    {
     "name": "stdout",
     "output_type": "stream",
     "text": [
      "15328\n"
     ]
    }
   ],
   "source": [
    "print(len(df))"
   ]
  },
  {
   "cell_type": "code",
   "execution_count": 3,
   "metadata": {},
   "outputs": [
    {
     "name": "stdout",
     "output_type": "stream",
     "text": [
      "10328\n",
      "Index(['Unnamed: 0', 'source', 'target', 'head1', 'head2', 'head3', 'head4',\n",
      "       'head5', 'head6', 'head7', 'head8'],\n",
      "      dtype='object')\n"
     ]
    }
   ],
   "source": [
    "# sort values\n",
    "result = df.sort_values(by=['head1'],ascending=False)\n",
    "result = result[5000:]\n",
    "print(len(result))\n",
    "print(result.columns)"
   ]
  },
  {
   "cell_type": "code",
   "execution_count": 4,
   "metadata": {},
   "outputs": [],
   "source": [
    "result = result.drop(['head1', 'head2', 'head3', 'head4', 'head5','head6','head7','head8','Unnamed: 0'], 1)"
   ]
  },
  {
   "cell_type": "code",
   "execution_count": 5,
   "metadata": {},
   "outputs": [],
   "source": [
    "result.to_csv('train_v2.csv')"
   ]
  }
 ],
 "metadata": {
  "kernelspec": {
   "display_name": "Python 3",
   "language": "python",
   "name": "python3"
  },
  "language_info": {
   "codemirror_mode": {
    "name": "ipython",
    "version": 3
   },
   "file_extension": ".py",
   "mimetype": "text/x-python",
   "name": "python",
   "nbconvert_exporter": "python",
   "pygments_lexer": "ipython3",
   "version": "3.6.9"
  }
 },
 "nbformat": 4,
 "nbformat_minor": 2
}
