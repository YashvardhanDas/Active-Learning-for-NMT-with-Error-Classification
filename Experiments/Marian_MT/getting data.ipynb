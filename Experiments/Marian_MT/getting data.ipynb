{
 "cells": [
  {
   "cell_type": "code",
   "execution_count": 2,
   "metadata": {},
   "outputs": [],
   "source": [
    "\n",
    "import pandas as pd"
   ]
  },
  {
   "cell_type": "code",
   "execution_count": 3,
   "metadata": {},
   "outputs": [
    {
     "name": "stdout",
     "output_type": "stream",
     "text": [
      "14328\n",
      "<bound method NDFrame.head of                                                   source  \\\n",
      "1000   Daanyeer ama Muusekorow , waa bahal ku nool ca...   \n",
      "1001   Apple INC waa shirkad mareykan ah oo samaysa k...   \n",
      "1002   Jaamacada Carabta waa urur kulmiya wadamada ca...   \n",
      "1003   waxaana ka dhexeeya xidhiidho aad iyo aad ubad...   \n",
      "1004   waxee ku taalaa meesha ee afrika iyo aasiya ee...   \n",
      "...                                                  ...   \n",
      "15323  İzmir ( waa magaalo taariikhi ah oo ku taalo G...   \n",
      "15324  İzmir waxa ay ku taalaa xeebta Badda Iija waan...   \n",
      "15325  Hadda waa caasimadda Gobolka İzmir waana magaa...   \n",
      "15326  İzmit ( waa caasimadda gobolka Kocaeli ee galb...   \n",
      "15327         Łobez waa magaalo ku taala dalka Boland.\\n   \n",
      "\n",
      "                                                  target  \n",
      "1000   They are distinguished from other primates by ...  \n",
      "1001   Apple Inc. is an American multinational techno...  \n",
      "1002   The Arab League was formed in Cairo on 22 Marc...  \n",
      "1003           Yemen joined as a member on 5 May 1945.\\n  \n",
      "1004   The Arabian Peninsula ( ' Arabian Peninsula ' ...  \n",
      "...                                                  ...  \n",
      "15323  The city of İzmir is composed of several metro...  \n",
      "15324  Despite facing a plague in 1676 , an earthquak...  \n",
      "15325  operates the railway and is owned 50 % by the ...  \n",
      "15326  The famous Turkish traditional sweet Pişmaniye...  \n",
      "15327                          Łobez is twinned with :\\n  \n",
      "\n",
      "[14328 rows x 2 columns]>\n"
     ]
    }
   ],
   "source": [
    "df = pd.read_csv('train.csv')\n",
    "top = df[1000:]\n",
    "\n",
    "print(len(top))\n",
    "print(top.head)\n",
    "top.to_csv('new_train.csv')"
   ]
  },
  {
   "cell_type": "code",
   "execution_count": 4,
   "metadata": {},
   "outputs": [
    {
     "name": "stdout",
     "output_type": "stream",
     "text": [
      "Index(['head1', 'head2', 'head3', 'head4', 'head5', 'head6', 'head7', 'head8'], dtype='object')\n",
      "<bound method NDFrame.head of           head1     head2     head3     head4     head5     head6     head7  \\\n",
      "0      2.367414  2.896929  2.331615  2.296392  2.159452  2.225471  2.123268   \n",
      "1      1.443470  2.298654  1.832090  1.621686  1.599896  1.617702  1.867696   \n",
      "2      1.819027  2.783548  2.197304  1.938645  2.137245  2.212680  1.975554   \n",
      "3      1.519849  1.202233  1.012400  0.982107  0.752308  1.350806  1.677290   \n",
      "4      2.077515  2.579514  2.054816  1.917181  1.809102  1.919873  2.129372   \n",
      "...         ...       ...       ...       ...       ...       ...       ...   \n",
      "14323  1.018858  1.634493  1.366610  1.107875  1.386544  1.469275  1.253406   \n",
      "14324  1.608493  2.216551  1.767415  1.766260  1.699784  1.747345  1.871514   \n",
      "14325  1.356874  2.393983  1.806519  1.712787  1.715685  1.676244  1.688333   \n",
      "14326  1.196025  1.745947  1.612126  1.301338  1.364356  1.610566  1.581859   \n",
      "14327  1.043674  1.673768  1.508881  1.554303  1.345383  1.395286  1.782554   \n",
      "\n",
      "          head8  \n",
      "0      2.546448  \n",
      "1      2.027892  \n",
      "2      2.503047  \n",
      "3      1.867797  \n",
      "4      2.302793  \n",
      "...         ...  \n",
      "14323  1.771271  \n",
      "14324  1.975914  \n",
      "14325  2.013938  \n",
      "14326  1.686574  \n",
      "14327  1.600959  \n",
      "\n",
      "[14328 rows x 8 columns]>\n",
      "Index(['Unnamed: 0', 'source', 'target', 'head1', 'head2', 'head3', 'head4',\n",
      "       'head5', 'head6', 'head7', 'head8'],\n",
      "      dtype='object')\n",
      "[1000\n",
      " 'Daanyeer ama Muusekorow , waa bahal ku nool caalamka , waxoo u badanyahay qaaradaha afrika iyo aasiya.Daanyeerka waa bahal geedaha fuulo , waxoona u dhisanyahay sida biniaadanka.\\n'\n",
      " 'They are distinguished from other primates by a wider degree of freedom of motion at the shoulder joint as evolved by the influence of brachiation.\\n'\n",
      " 2.3674135208129883 2.8969290256500244 2.331615209579468 2.29639220237732\n",
      " 2.159452438354492 2.2254714965820312 2.123268365859986 2.546447515487671]\n",
      "Index(['Unnamed: 0', 'source', 'target', 'head1', 'head2', 'head3', 'head4',\n",
      "       'head5', 'head6', 'head7', 'head8'],\n",
      "      dtype='object')\n"
     ]
    }
   ],
   "source": [
    "#merging scores shenanigans\n",
    "df1 = pd.read_csv('new_train.csv')\n",
    "df2 = pd.read_csv('somali_scores.csv',header=None)\n",
    "df2.columns = ['head1','head2','head3','head4','head5','head6','head7','head8']\n",
    "print(df2.columns)\n",
    "print(df2.head)\n",
    "df1['head1'] = df2['head1']\n",
    "df1['head2'] = df2['head2']\n",
    "df1['head3'] = df2['head3']\n",
    "df1['head4'] = df2['head4']\n",
    "df1['head5'] = df2['head5']\n",
    "df1['head6'] = df2['head6']\n",
    "df1['head7'] = df2['head7']\n",
    "df1['head8'] = df2['head8']\n",
    "\n",
    "print(df1.columns)\n",
    "print(df1.values[0])\n",
    "\n",
    "# df1 = df1.drop('Unnamed: 0', 1)\n",
    "print(df1.columns)\n",
    "df1.to_csv('train_with_scores.csv')"
   ]
  },
  {
   "cell_type": "code",
   "execution_count": 54,
   "metadata": {},
   "outputs": [],
   "source": [
    "# load score file \n",
    "df = pd.read_csv('train_with_scores.csv')"
   ]
  },
  {
   "cell_type": "code",
   "execution_count": 55,
   "metadata": {},
   "outputs": [
    {
     "name": "stdout",
     "output_type": "stream",
     "text": [
      "14328\n"
     ]
    }
   ],
   "source": [
    "print(len(df))"
   ]
  },
  {
   "cell_type": "code",
   "execution_count": 49,
   "metadata": {},
   "outputs": [
    {
     "name": "stdout",
     "output_type": "stream",
     "text": [
      "       Unnamed: 0  Unnamed: 0.1  \\\n",
      "2391         2391          3391   \n",
      "12959       12959         13959   \n",
      "2389         2389          3389   \n",
      "2388         2388          3388   \n",
      "2384         2384          3384   \n",
      "...           ...           ...   \n",
      "3847         3847          4847   \n",
      "12230       12230         13230   \n",
      "2792         2792          3792   \n",
      "6956         6956          7956   \n",
      "988           988          1988   \n",
      "\n",
      "                                                  source  \\\n",
      "2391                                2010 - 2011 - 2012\\n   \n",
      "12959  luqadaha yar-yar oo looga hadlo waxaa ka mid a...   \n",
      "2389                                2008 - 2009 - 2010\\n   \n",
      "2388                                2006 - 2007 - 2008\\n   \n",
      "2384                                2002 - 2003 - 2004\\n   \n",
      "...                                                  ...   \n",
      "3847   Gaajo marka laga hadlayo siyaasada , caawimaad...   \n",
      "12230  In kastoo marka loo diyaarinayo bariiska cunto...   \n",
      "2792   Deegaanka Baalade waa deegaan aad u balaaran o...   \n",
      "6956   Barcelona waa mid ka mid ah dalxiisaha ugu caa...   \n",
      "988    Mayl-badeedku ka mid maaha halbeegyada habka c...   \n",
      "\n",
      "                                                  target     head1     head2  \\\n",
      "2391   A series of protests and government overthrows...  3.087907  3.507547   \n",
      "12959  Other minor languages included Amharic ( 0.67 ...  3.376930  3.593720   \n",
      "2389   There was a swine flu pandemic that occuriin i...  3.022129  3.524296   \n",
      "2388   2007 was designated as the International Helio...  2.907680  3.637790   \n",
      "2384   2003 was designated the International Year of ...  2.805889  3.348157   \n",
      "...                                                  ...       ...       ...   \n",
      "3847   In politics , humanitarian aid , and social sc...  2.090600  3.032326   \n",
      "12230  Many countries consider rice as a strategic fo...  2.832911  3.245033   \n",
      "2792   The Baalade , also called Togga Baalade is one...  1.880611  2.934048   \n",
      "6956   Despite its moderate pickpocket rate , Barcelo...  2.121562  3.326159   \n",
      "988    A nautical mile is a unit of measurement used ...  2.003830  3.033358   \n",
      "\n",
      "          head3     head4     head5     head6     head7     head8  \n",
      "2391   3.412207  3.526064  2.567569  3.237640  3.409004  3.811439  \n",
      "12959  3.234024  3.120535  2.962960  3.385098  3.580840  3.643224  \n",
      "2389   3.680038  3.521809  2.775474  3.266050  3.283306  3.622396  \n",
      "2388   3.609004  3.573082  2.880686  3.398183  3.532378  3.606140  \n",
      "2384   3.480881  3.242133  3.214866  3.429939  3.562962  3.586148  \n",
      "...         ...       ...       ...       ...       ...       ...  \n",
      "3847   2.263705  2.145189  2.127754  2.403244  2.298236  2.827370  \n",
      "12230  2.273604  2.303726  2.373638  2.250358  2.516390  2.826063  \n",
      "2792   2.146749  2.000490  2.213585  2.284130  2.064126  2.822131  \n",
      "6956   2.727462  2.472008  2.746486  2.491687  2.355060  2.821760  \n",
      "988    2.290269  1.967065  2.266093  2.132747  2.338275  2.821190  \n",
      "\n",
      "[100 rows x 12 columns]\n"
     ]
    }
   ],
   "source": [
    "# sort values\n",
    "result = df.sort_values(by=['head8'],ascending=False)\n",
    "print(result.head(100))"
   ]
  },
  {
   "cell_type": "code",
   "execution_count": 8,
   "metadata": {},
   "outputs": [
    {
     "name": "stdout",
     "output_type": "stream",
     "text": [
      "14328\n"
     ]
    }
   ],
   "source": [
    "print(len(result))"
   ]
  },
  {
   "cell_type": "code",
   "execution_count": 56,
   "metadata": {},
   "outputs": [
    {
     "name": "stdout",
     "output_type": "stream",
     "text": [
      "1000\n",
      "13328\n",
      "3000\n",
      "11328\n",
      "7000\n",
      "14328\n"
     ]
    }
   ],
   "source": [
    "#getting random of desired budget , please take before sorting\n",
    "# tp = result.head(3000)\n",
    "# rnd = df[3000:].sample(n=4000)\n",
    "# rnd = rnd.append(tp)\n",
    "rnd_1 = df.sample(n=1000)\n",
    "b1 = rnd_1\n",
    "print(len(b1))\n",
    "res = df.drop(rnd_1.index)\n",
    "print(len(res))\n",
    "rnd_2 = res.sample(n=2000)\n",
    "res = res.drop(rnd_2.index)\n",
    "b2 = b1.append(rnd_2)\n",
    "print(len(b2))\n",
    "print(len(res))\n",
    "rnd_3 = res.sample(n=4000)\n",
    "b3 = b2.append(rnd_3)\n",
    "print(len(b3))\n",
    "b4 = df.sample(frac=1)\n",
    "print(len(b4))\n",
    "# print(rnd['source'])\n",
    "# source = rnd['source'].values\n",
    "# target = rnd['target'].values\n",
    "# print(source[1],target[1])\n",
    "# #saving as file\n",
    "# with open(\"rtrain.source\", \"w\") as txt_file:\n",
    "#     for line in source:\n",
    "#         txt_file.write(line) \n",
    "# with open(\"rtrain.target\", \"w\") as file:\n",
    "#     for line in target:\n",
    "#         file.write(line) "
   ]
  },
  {
   "cell_type": "code",
   "execution_count": 59,
   "metadata": {},
   "outputs": [
    {
     "name": "stdout",
     "output_type": "stream",
     "text": [
      "Wakhtiyadii ugu horeeyay ee emailka la isticmaalo waa ilaa 1970kii goortaasi ooy isticmaali jireen hay'adaha sirdoonka dawlada Maraykanka.\n",
      " Electronic mail ( email or e-mail ) is a method of exchanging messages ( \" mail \" ) between people using electronic devices.\n",
      "\n"
     ]
    }
   ],
   "source": [
    "# print(rnd['source'])\n",
    "source = b1['source'].values\n",
    "target = b2['target'].values\n",
    "# print(source[1],target[1])\n",
    "#saving as file\n",
    "with open(\"1ktrain.source\", \"w\") as txt_file:\n",
    "    for line in source:\n",
    "        txt_file.write(line) \n",
    "with open(\"1ktrain.target\", \"w\") as file:\n",
    "    for line in target:\n",
    "        file.write(line) \n",
    "# print(rnd['source'])\n",
    "source = b2['source'].values\n",
    "target = b2['target'].values\n",
    "print(source[1],target[1])\n",
    "#saving as file\n",
    "with open(\"2ktrain.source\", \"w\") as txt_file:\n",
    "    for line in source:\n",
    "        txt_file.write(line) \n",
    "with open(\"2ktrain.target\", \"w\") as file:\n",
    "    for line in target:\n",
    "        file.write(line) \n",
    "#         print(rnd['source'])\n",
    "source = b3['source'].values\n",
    "target = b3['target'].values\n",
    "# print(source[1],target[1])\n",
    "#saving as file\n",
    "with open(\"4ktrain.source\", \"w\") as txt_file:\n",
    "    for line in source:\n",
    "        txt_file.write(line) \n",
    "with open(\"4ktrain.target\", \"w\") as file:\n",
    "    for line in target:\n",
    "        file.write(line) \n",
    "#         print(rnd['source'])\n",
    "source = b4['source'].values\n",
    "target = b4['target'].values\n",
    "# print(source[1],target[1])\n",
    "#saving as file\n",
    "with open(\"8ktrain.source\", \"w\") as txt_file:\n",
    "    for line in source:\n",
    "        txt_file.write(line) \n",
    "with open(\"8ktrain.target\", \"w\") as file:\n",
    "    for line in target:\n",
    "        file.write(line) "
   ]
  },
  {
   "cell_type": "code",
   "execution_count": 50,
   "metadata": {},
   "outputs": [
    {
     "name": "stdout",
     "output_type": "stream",
     "text": [
      "<bound method NDFrame.head of        Unnamed: 0  Unnamed: 0.1  \\\n",
      "2391         2391          3391   \n",
      "12959       12959         13959   \n",
      "2389         2389          3389   \n",
      "2388         2388          3388   \n",
      "2384         2384          3384   \n",
      "...           ...           ...   \n",
      "9409         9409         10409   \n",
      "14126       14126         15126   \n",
      "2926         2926          3926   \n",
      "12221       12221         13221   \n",
      "2452         2452          3452   \n",
      "\n",
      "                                                  source  \\\n",
      "2391                                2010 - 2011 - 2012\\n   \n",
      "12959  luqadaha yar-yar oo looga hadlo waxaa ka mid a...   \n",
      "2389                                2008 - 2009 - 2010\\n   \n",
      "2388                                2006 - 2007 - 2008\\n   \n",
      "2384                                2002 - 2003 - 2004\\n   \n",
      "...                                                  ...   \n",
      "9409   Tani macheheedu waa dadka ku wada nool guri ha...   \n",
      "14126  Eregu waa mid ka mid ah afka waxa uuna ka koob...   \n",
      "2926   Bluetooth waa hab ay labo shey oo elektoorig k...   \n",
      "12221  Sidoo kale meelo ku dhow webiga Nayjar ee qaar...   \n",
      "2452   65 waa lambar tiro ka mid ah xisaabta taasi oo...   \n",
      "\n",
      "                                                  target     head1     head2  \\\n",
      "2391   A series of protests and government overthrows...  3.087907  3.507547   \n",
      "12959  Other minor languages included Amharic ( 0.67 ...  3.376930  3.593720   \n",
      "2389   There was a swine flu pandemic that occuriin i...  3.022129  3.524296   \n",
      "2388   2007 was designated as the International Helio...  2.907680  3.637790   \n",
      "2384   2003 was designated the International Year of ...  2.805889  3.348157   \n",
      "...                                                  ...       ...       ...   \n",
      "9409   Groups that screening is recommended for inclu...  2.049514  2.609079   \n",
      "14126  There are several ways to determine where the ...  2.233098  2.690846   \n",
      "2926   Bluetooth is a wireless technology standard us...  2.015086  2.545794   \n",
      "12221  Thailand has a large number of rice varieties ...  1.791456  2.670253   \n",
      "2452   65 ( sixty-five ) is the natural number follow...  1.931192  2.670397   \n",
      "\n",
      "          head3     head4     head5     head6     head7     head8  \n",
      "2391   3.412207  3.526064  2.567569  3.237640  3.409004  3.811439  \n",
      "12959  3.234024  3.120535  2.962960  3.385098  3.580840  3.643224  \n",
      "2389   3.680038  3.521809  2.775474  3.266050  3.283306  3.622396  \n",
      "2388   3.609004  3.573082  2.880686  3.398183  3.532378  3.606140  \n",
      "2384   3.480881  3.242133  3.214866  3.429939  3.562962  3.586148  \n",
      "...         ...       ...       ...       ...       ...       ...  \n",
      "9409   1.833826  1.776919  1.930877  2.100180  2.153286  2.368848  \n",
      "14126  1.815585  1.523402  1.683563  1.924007  2.015073  2.368720  \n",
      "2926   1.847273  1.672838  1.666612  2.006799  2.115847  2.367993  \n",
      "12221  2.207111  2.115079  1.880761  2.189708  2.006943  2.367584  \n",
      "2452   2.473067  2.267088  2.196041  2.045988  2.353329  2.367420  \n",
      "\n",
      "[1000 rows x 12 columns]>\n",
      "koonfurta aasiya iyo bartamaha ameerika burcad badeednimada waligeed wee ka jiri jireen , waxaana maanta burcad badeeda ku arkee biyaha u dhaxeeyo D aduunka.\n",
      " The elimination of piracy from European waters expanded to the Caribbean in the 18th century , West Africa and North America by the 1710s and by the 1720s even the Indian Ocean was a difficult location for pirates to operate.\n",
      "\n"
     ]
    }
   ],
   "source": [
    "top = result.head(1000)\n",
    "nextnk = top\n",
    "print(nextnk.head)\n",
    "nextnk = nextnk.sample(frac=1)\n",
    "# print(nextnk['source'])\n",
    "source = nextnk['source'].values\n",
    "target = nextnk['target'].values\n",
    "print(source[1],target[1])\n",
    "#saving as file\n",
    "with open(\"new/head8/1k/train.source\", \"w\") as txt_file:\n",
    "    for line in source:\n",
    "        txt_file.write(line) \n",
    "with open(\"new/head8/1k/train.target\", \"w\") as file:\n",
    "    for line in target:\n",
    "        file.write(line) "
   ]
  },
  {
   "cell_type": "code",
   "execution_count": 51,
   "metadata": {},
   "outputs": [
    {
     "name": "stdout",
     "output_type": "stream",
     "text": [
      "<bound method NDFrame.head of        Unnamed: 0  Unnamed: 0.1  \\\n",
      "2391         2391          3391   \n",
      "12959       12959         13959   \n",
      "2389         2389          3389   \n",
      "2388         2388          3388   \n",
      "2384         2384          3384   \n",
      "...           ...           ...   \n",
      "2120         2120          3120   \n",
      "3053         3053          4053   \n",
      "6930         6930          7930   \n",
      "1377         1377          2377   \n",
      "10333       10333         11333   \n",
      "\n",
      "                                                  source  \\\n",
      "2391                                2010 - 2011 - 2012\\n   \n",
      "12959  luqadaha yar-yar oo looga hadlo waxaa ka mid a...   \n",
      "2389                                2008 - 2009 - 2010\\n   \n",
      "2388                                2006 - 2007 - 2008\\n   \n",
      "2384                                2002 - 2003 - 2004\\n   \n",
      "...                                                  ...   \n",
      "2120   Si kastaba ha ahaatee , ardey baranayay Cilmi ...   \n",
      "3053   Farabadne ( waa bahal yar , oo ka mida cayayaa...   \n",
      "6930   [ 18 ] Dagaalyahanka madaniga ahi wuxuu u dhex...   \n",
      "1377   Waslada waxaa laga diyaariyaa hilibka lo'da , ...   \n",
      "10333  Dastuurka Liberian iyo calanka ayaa la mideeya...   \n",
      "\n",
      "                                                  target     head1     head2  \\\n",
      "2391   A series of protests and government overthrows...  3.087907  3.507547   \n",
      "12959  Other minor languages included Amharic ( 0.67 ...  3.376930  3.593720   \n",
      "2389   There was a swine flu pandemic that occuriin i...  3.022129  3.524296   \n",
      "2388   2007 was designated as the International Helio...  2.907680  3.637790   \n",
      "2384   2003 was designated the International Year of ...  2.805889  3.348157   \n",
      "...                                                  ...       ...       ...   \n",
      "2120   In order of increasing distance from the Sun ,...  1.289614  2.154206   \n",
      "3053   Centipedes ( from the New Latin prefix ' , \" h...  1.824365  2.103068   \n",
      "6930   Sectarian violence broke out between Bengalis ...  1.620451  2.199793   \n",
      "1377   It is normally grilled , though can also be pa...  2.164456  2.394214   \n",
      "10333  The Liberian constitution and flag were modele...  1.257569  2.114359   \n",
      "\n",
      "          head3     head4     head5     head6     head7     head8  \n",
      "2391   3.412207  3.526064  2.567569  3.237640  3.409004  3.811439  \n",
      "12959  3.234024  3.120535  2.962960  3.385098  3.580840  3.643224  \n",
      "2389   3.680038  3.521809  2.775474  3.266050  3.283306  3.622396  \n",
      "2388   3.609004  3.573082  2.880686  3.398183  3.532378  3.606140  \n",
      "2384   3.480881  3.242133  3.214866  3.429939  3.562962  3.586148  \n",
      "...         ...       ...       ...       ...       ...       ...  \n",
      "2120   1.743148  1.480373  1.592006  1.807343  1.620566  2.063908  \n",
      "3053   1.338456  1.369369  1.345542  1.642022  1.705276  2.063906  \n",
      "6930   1.608164  1.534126  1.694308  1.870428  1.926315  2.063895  \n",
      "1377   1.699845  1.844448  1.429567  1.815545  2.271749  2.063820  \n",
      "10333  1.781608  1.464050  1.640031  1.822633  1.687102  2.063692  \n",
      "\n",
      "[3000 rows x 12 columns]>\n",
      "Maqaarka sare ee adag , waxaa ku xiga xadhko yaryar oo loo yaqaano Maydhax ( xylem ) , kuwaas oo ayaguna ka cuntada , biyaha iyo nafaqada kale gaadhsiiya unugyada jirida.\n",
      " The roots of a tree serve to anchor it to the ground and gather water and nutrients to transfer to all parts of the tree.\n",
      "\n"
     ]
    }
   ],
   "source": [
    "top = result.head(3000)\n",
    "nextnk = top\n",
    "print(nextnk.head)\n",
    "nextnk = nextnk.sample(frac=1)\n",
    "# print(nextnk['source'])\n",
    "source = nextnk['source'].values\n",
    "target = nextnk['target'].values\n",
    "print(source[1],target[1])\n",
    "#saving as file\n",
    "with open(\"new/head8/2k/train.source\", \"w\") as txt_file:\n",
    "    for line in source:\n",
    "        txt_file.write(line) \n",
    "with open(\"new/head8/2k/train.target\", \"w\") as file:\n",
    "    for line in target:\n",
    "        file.write(line) "
   ]
  },
  {
   "cell_type": "code",
   "execution_count": 52,
   "metadata": {},
   "outputs": [
    {
     "name": "stdout",
     "output_type": "stream",
     "text": [
      "<bound method NDFrame.head of        Unnamed: 0  Unnamed: 0.1  \\\n",
      "2391         2391          3391   \n",
      "12959       12959         13959   \n",
      "2389         2389          3389   \n",
      "2388         2388          3388   \n",
      "2384         2384          3384   \n",
      "...           ...           ...   \n",
      "9331         9331         10331   \n",
      "13107       13107         14107   \n",
      "2042         2042          3042   \n",
      "8563         8563          9563   \n",
      "8534         8534          9534   \n",
      "\n",
      "                                                  source  \\\n",
      "2391                                2010 - 2011 - 2012\\n   \n",
      "12959  luqadaha yar-yar oo looga hadlo waxaa ka mid a...   \n",
      "2389                                2008 - 2009 - 2010\\n   \n",
      "2388                                2006 - 2007 - 2008\\n   \n",
      "2384                                2002 - 2003 - 2004\\n   \n",
      "...                                                  ...   \n",
      "9331   Waxaa loo doortay Golaha Territorial Assembly ...   \n",
      "13107  Intii qarnigii 20aad , aqlabiyadda madaw waxay...   \n",
      "2042   Mesobotaamiya ' ( ingiriis : Mesopotamia ; car...   \n",
      "8563   Gobolka dhexe , Río Muni , waxaa xuduud u leh ...   \n",
      "8534   Sanado ka dib markii la aasaasay , duulimaadka...   \n",
      "\n",
      "                                                  target     head1     head2  \\\n",
      "2391   A series of protests and government overthrows...  3.087907  3.507547   \n",
      "12959  Other minor languages included Amharic ( 0.67 ...  3.376930  3.593720   \n",
      "2389   There was a swine flu pandemic that occuriin i...  3.022129  3.524296   \n",
      "2388   2007 was designated as the International Helio...  2.907680  3.637790   \n",
      "2384   2003 was designated the International Year of ...  2.805889  3.348157   \n",
      "...                                                  ...       ...       ...   \n",
      "9331   He was elected to the Territorial Assembly in ...  1.386706  2.023299   \n",
      "13107  During the 20th century , the black majority s...  1.082705  1.862861   \n",
      "2042   Mesopotamia is a historical region of Western ...  1.010441  1.712442   \n",
      "8563   The mainland region , Río Muni , is bordered b...  1.286953  1.834519   \n",
      "8534   In the years following its founding , the airl...  1.395570  2.050820   \n",
      "\n",
      "          head3     head4     head5     head6     head7     head8  \n",
      "2391   3.412207  3.526064  2.567569  3.237640  3.409004  3.811439  \n",
      "12959  3.234024  3.120535  2.962960  3.385098  3.580840  3.643224  \n",
      "2389   3.680038  3.521809  2.775474  3.266050  3.283306  3.622396  \n",
      "2388   3.609004  3.573082  2.880686  3.398183  3.532378  3.606140  \n",
      "2384   3.480881  3.242133  3.214866  3.429939  3.562962  3.586148  \n",
      "...         ...       ...       ...       ...       ...       ...  \n",
      "9331   1.538946  1.327329  1.315076  1.681751  1.796947  1.738152  \n",
      "13107  1.426120  1.270834  1.296675  1.454223  1.554647  1.738006  \n",
      "2042   1.673232  1.257657  1.451522  1.593636  1.451617  1.738003  \n",
      "8563   1.280970  1.372794  1.271370  1.513745  1.642639  1.737982  \n",
      "8534   1.410877  1.287928  1.366731  1.647544  1.695143  1.737899  \n",
      "\n",
      "[7000 rows x 12 columns]>\n",
      "Soomaalida waa inay ka feejignaadaan damacyada aan kor ku xusay.\n",
      " The bourse is slated to officially open in 2015.\n",
      "\n"
     ]
    }
   ],
   "source": [
    "top = result.head(7000)\n",
    "nextnk = top\n",
    "print(nextnk.head)\n",
    "nextnk = nextnk.sample(frac=1)\n",
    "# print(nextnk['source'])\n",
    "source = nextnk['source'].values\n",
    "target = nextnk['target'].values\n",
    "print(source[1],target[1])\n",
    "#saving as file\n",
    "with open(\"new/head8/4k/train.source\", \"w\") as txt_file:\n",
    "    for line in source:\n",
    "        txt_file.write(line) \n",
    "with open(\"new/head8/4k/train.target\", \"w\") as file:\n",
    "    for line in target:\n",
    "        file.write(line) "
   ]
  },
  {
   "cell_type": "code",
   "execution_count": 53,
   "metadata": {},
   "outputs": [
    {
     "name": "stdout",
     "output_type": "stream",
     "text": [
      "<bound method NDFrame.head of        Unnamed: 0  Unnamed: 0.1  \\\n",
      "2391         2391          3391   \n",
      "12959       12959         13959   \n",
      "2389         2389          3389   \n",
      "2388         2388          3388   \n",
      "2384         2384          3384   \n",
      "...           ...           ...   \n",
      "10010       10010         11010   \n",
      "11026       11026         12026   \n",
      "14006       14006         15006   \n",
      "4879         4879          5879   \n",
      "3196         3196          4196   \n",
      "\n",
      "                                                  source  \\\n",
      "2391                                2010 - 2011 - 2012\\n   \n",
      "12959  luqadaha yar-yar oo looga hadlo waxaa ka mid a...   \n",
      "2389                                2008 - 2009 - 2010\\n   \n",
      "2388                                2006 - 2007 - 2008\\n   \n",
      "2384                                2002 - 2003 - 2004\\n   \n",
      "...                                                  ...   \n",
      "10010     Bisha Juun waxay ka koobantahay 30 maalmood.\\n   \n",
      "11026               Wadankaan caasimadiisa waa Maputo.\\n   \n",
      "14006                 Ama waxay ilaalin karta guryaha.\\n   \n",
      "4879                                    Asto qoraaleed\\n   \n",
      "3196                        Kuuba waa waddan ku yaala.\\n   \n",
      "\n",
      "                                                  target     head1     head2  \\\n",
      "2391   A series of protests and government overthrows...  3.087907  3.507547   \n",
      "12959  Other minor languages included Amharic ( 0.67 ...  3.376930  3.593720   \n",
      "2389   There was a swine flu pandemic that occuriin i...  3.022129  3.524296   \n",
      "2388   2007 was designated as the International Helio...  2.907680  3.637790   \n",
      "2384   2003 was designated the International Year of ...  2.805889  3.348157   \n",
      "...                                                  ...       ...       ...   \n",
      "10010                   A Rosalia was held on June 20.\\n  0.637296  0.858243   \n",
      "11026  The Administrative Committee is located in Map...  0.239603  0.834259   \n",
      "14006      They may be part of a building or external.\\n  0.574145  0.539701   \n",
      "4879   Punctuation ( or sometimes interpunction ) is ...  0.529410  0.410961   \n",
      "3196   Cuba , officially the Republic of Cuba , is a ...  0.322996  0.693005   \n",
      "\n",
      "          head3     head4     head5     head6     head7     head8  \n",
      "2391   3.412207  3.526064  2.567569  3.237640  3.409004  3.811439  \n",
      "12959  3.234024  3.120535  2.962960  3.385098  3.580840  3.643224  \n",
      "2389   3.680038  3.521809  2.775474  3.266050  3.283306  3.622396  \n",
      "2388   3.609004  3.573082  2.880686  3.398183  3.532378  3.606140  \n",
      "2384   3.480881  3.242133  3.214866  3.429939  3.562962  3.586148  \n",
      "...         ...       ...       ...       ...       ...       ...  \n",
      "10010  0.661345  0.614103  0.163447  0.611552  1.008276  0.612972  \n",
      "11026  0.432071  0.129959  0.147266  0.335463  0.625678  0.579678  \n",
      "14006  0.470155  0.365790  0.126320  0.504876  0.605159  0.480386  \n",
      "4879   0.471501  0.027227  0.000000  0.315830  0.277183  0.441533  \n",
      "3196   0.293041  0.380040  0.139907  0.542494  0.307043  0.437485  \n",
      "\n",
      "[14328 rows x 12 columns]>\n",
      "Koodani waxaa la aasaasay sanadku markuu ahaa 1963dii , waxayna ka mid tahay afarta kooxood ee ugu waaweyn bguud ahaan dalkaasi.\n",
      " The club was founded in 2007 and they are title holders of 2008-09 season of Turkish Women's First Football League.\n",
      "\n"
     ]
    }
   ],
   "source": [
    "top = result\n",
    "nextnk = top\n",
    "print(nextnk.head)\n",
    "nextnk = nextnk.sample(frac=1)\n",
    "# print(nextnk['source'])\n",
    "source = nextnk['source'].values\n",
    "target = nextnk['target'].values\n",
    "print(source[1],target[1])\n",
    "#saving as file\n",
    "with open(\"new/head8/8k/train.source\", \"w\") as txt_file:\n",
    "    for line in source:\n",
    "        txt_file.write(line) \n",
    "with open(\"new/head8/8k/train.target\", \"w\") as file:\n",
    "    for line in target:\n",
    "        file.write(line) "
   ]
  },
  {
   "cell_type": "code",
   "execution_count": 6,
   "metadata": {},
   "outputs": [],
   "source": [
    "top = result[7000:]\n",
    "nextnk = top "
   ]
  },
  {
   "cell_type": "code",
   "execution_count": 100,
   "metadata": {},
   "outputs": [
    {
     "name": "stdout",
     "output_type": "stream",
     "text": [
      "2000\n",
      "<bound method NDFrame.head of       Unnamed: 0                                             source  \\\n",
      "4184        4184  Kosta Rika ( Costa Rica ) waa wadan ku yaala a...   \n",
      "2232        2232  Magaaladu waxay inta badan ku taal barta wabig...   \n",
      "3547        3547  Atoore ( Atariisho oo ah dhediga jilayaasha ) ...   \n",
      "6845        6845  Lambarkan waa mid kinsi ah , waxaana ka horeey...   \n",
      "2554        2554  Khalku waa dareere ka samaysan asiidh iyo biyo...   \n",
      "...          ...                                                ...   \n",
      "9359        9359  Qaar ka mid ah ceelkii mangrove qadiimiga ahaa...   \n",
      "7451        7451  waxa laguyaqaanaa alqaacida in ay isticmaasho ...   \n",
      "1823        1823  Sida caadiga ah tix waxaa la odhan karaa waa b...   \n",
      "6560        6560  Waaxda Warbixinta Bulshada Qaramada Midoobay (...   \n",
      "9972        9972  Sida taariikhda lagu hayo waxaa Galdogob ka so...   \n",
      "\n",
      "                                                 target     head1     head2  \\\n",
      "4184  Costa Rica ( literally \" Rich Coast \" ) , offi...  1.628371  2.365483   \n",
      "2232  Saint Paul ( abbreviated St. Paul ) is the cap...  1.479198  2.365299   \n",
      "3547  An actor is a person who portrays a character ...  1.346991  2.364721   \n",
      "6845  155 ( one hundred [ and ] fifty-five ) is the ...  1.435801  2.364706   \n",
      "2554  Vinegar is an aqueous solution of acetic acid ...  2.096502  2.364055   \n",
      "...                                                 ...       ...       ...   \n",
      "9359  Dubai has one of the world's lowest crime rate...  1.658613  2.170506   \n",
      "7451  In September 2004 , the 9 / 11 Commission offi...  1.263954  2.170380   \n",
      "1823  The words to an extended musical composition s...  1.697369  2.169902   \n",
      "6560  The United Nations Department of Global Commun...  1.597442  2.169725   \n",
      "9972  According to the Puntland Ministry of Educatio...  1.460539  2.169497   \n",
      "\n",
      "         head3     head4     head5     head6     head7     head8  \n",
      "4184  1.936503  1.645105  1.717237  2.114521  1.806137  2.253167  \n",
      "2232  1.791716  1.661352  1.595420  1.685585  1.658008  2.164772  \n",
      "3547  1.596769  1.289471  1.404377  1.439054  1.591966  1.925192  \n",
      "6845  1.936863  1.769651  1.754990  1.709995  1.848011  2.261240  \n",
      "2554  1.442728  1.656757  1.336070  1.555890  1.937206  2.022267  \n",
      "...        ...       ...       ...       ...       ...       ...  \n",
      "9359  1.648056  1.525802  1.625678  1.789298  1.678221  1.937107  \n",
      "7451  1.300718  1.345935  1.163409  1.387641  1.559474  1.845610  \n",
      "1823  1.501999  1.262653  1.265903  1.588498  1.723162  1.777438  \n",
      "6560  1.598629  1.548266  1.594651  1.719656  1.828156  1.963595  \n",
      "9972  1.434858  1.555840  1.549517  1.635743  1.711185  2.011161  \n",
      "\n",
      "[1000 rows x 11 columns]>\n"
     ]
    }
   ],
   "source": [
    "# getting next 1k i.e up to 2k..\n",
    "top = result.head(2000)\n",
    "print(len(top))\n",
    "\n",
    "nextnk = top[1000:2000]\n",
    "print(nextnk.head)"
   ]
  },
  {
   "cell_type": "code",
   "execution_count": 108,
   "metadata": {},
   "outputs": [
    {
     "name": "stdout",
     "output_type": "stream",
     "text": [
      "5000\n",
      "3000\n"
     ]
    }
   ],
   "source": [
    "#getting next 3k\n",
    "top = result.head(5000)\n",
    "print(len(top))\n",
    "nextnk = top[2000:5000]\n",
    "print(len(nextnk))"
   ]
  },
  {
   "cell_type": "code",
   "execution_count": 116,
   "metadata": {},
   "outputs": [
    {
     "name": "stdout",
     "output_type": "stream",
     "text": [
      "6000\n",
      "4000\n"
     ]
    }
   ],
   "source": [
    "#gettink 4k\n",
    "top = result.head(6000)\n",
    "print(len(top))\n",
    "nextnk = top[2000:6000]\n",
    "print(len(nextnk))"
   ]
  },
  {
   "cell_type": "code",
   "execution_count": 71,
   "metadata": {},
   "outputs": [],
   "source": [
    "#getting next 5k as rescored , just pick top 5k\n",
    "nextnk = result.head(5000)"
   ]
  },
  {
   "cell_type": "code",
   "execution_count": 81,
   "metadata": {},
   "outputs": [
    {
     "name": "stdout",
     "output_type": "stream",
     "text": [
      "5328\n"
     ]
    }
   ],
   "source": [
    "#final chunk\n",
    "nextnk = result[5000:]\n",
    "print(len(nextnk))"
   ]
  },
  {
   "cell_type": "code",
   "execution_count": 19,
   "metadata": {},
   "outputs": [
    {
     "name": "stdout",
     "output_type": "stream",
     "text": [
      "92316\n",
      "<bound method NDFrame.head of        Unnamed: 0                                             source  \\\n",
      "61975       61975  Als ich mit Einwanderern in Oakland sprach, na...   \n",
      "236           236                       Но верно ли это впечатление?   \n",
      "2403         2403                        Китай: гласность отменяется   \n",
      "9882         9882  Der Durchschnitt ihrer Einkommen beträgt 25 00...   \n",
      "22785       22785  In China können tausende von „sensitiven Wörte...   \n",
      "...           ...                                                ...   \n",
      "91573       91573                                                 13   \n",
      "91999       91999                                               2000   \n",
      "92264       92264                                                 12   \n",
      "54657       54657                                               2002   \n",
      "54658       54658                                               2002   \n",
      "\n",
      "                                                  target    layer1    layer2  \\\n",
      "61975  When I talked to immigrants in Oakland, they c...  2.491393  2.661620   \n",
      "236                            Is this impression right?  2.140556  1.329131   \n",
      "2403                            China’s Aborted Openness  2.000651  1.267946   \n",
      "9882   The mean average of their incomes is $25,000, ...  1.871191  1.982056   \n",
      "22785  In China, thousands of “sensitive words,” incl...  1.514982  1.869583   \n",
      "...                                                  ...       ...       ...   \n",
      "91573                                                 13  0.110368  0.338122   \n",
      "91999                                               2000  0.098891  0.372897   \n",
      "92264                                                 12  0.065159  0.355818   \n",
      "54657                                               2002  0.042958  0.111689   \n",
      "54658                                               2002  0.042958  0.111689   \n",
      "\n",
      "         layer3    layer4    layer5    layer6  \n",
      "61975  2.470151  2.144997  2.322511  2.337121  \n",
      "236    0.673461  0.427869  0.435984  0.667478  \n",
      "2403   0.478409  0.281894  0.423868  0.563748  \n",
      "9882   1.678586  1.308110  1.477917  1.339459  \n",
      "22785  1.407968  1.331521  1.484851  1.351854  \n",
      "...         ...       ...       ...       ...  \n",
      "91573  0.181729  0.000000  0.018603  0.000000  \n",
      "91999  0.226503  0.000000  0.129136  0.000000  \n",
      "92264  0.150768  0.000000  0.110059  0.021993  \n",
      "54657  0.160358  0.000000  0.064979  0.000000  \n",
      "54658  0.160358  0.000000  0.064979  0.000000  \n",
      "\n",
      "[92316 rows x 9 columns]>\n",
      "15000\n",
      "10000\n"
     ]
    }
   ],
   "source": [
    "#next 10k after the 5k\n",
    "print(len(result))\n",
    "print(result.head)\n",
    "top = result.head(15000)\n",
    "print(len(top))\n",
    "nextnk = top[5000:15000]\n",
    "print(len(nextnk))"
   ]
  },
  {
   "cell_type": "code",
   "execution_count": 54,
   "metadata": {},
   "outputs": [],
   "source": [
    "# next 30k\n",
    "top = result.head(30000)\n",
    "nextnk = top"
   ]
  },
  {
   "cell_type": "code",
   "execution_count": 36,
   "metadata": {},
   "outputs": [
    {
     "name": "stdout",
     "output_type": "stream",
     "text": [
      "<bound method NDFrame.head of        Unnamed: 0                                             source  \\\n",
      "6311         6311  Lakab dhuleedka ama Dabaqada dhulka ee dhagaxa...   \n",
      "14797       14797  Ururka Ganacsiga ( EFTA ) , laakiin 1973 waxay...   \n",
      "4256         4256  Eelo waa nooc ka mida duur joogta naasaleyda a...   \n",
      "5319         5319  Naasley waa qayb ka mid ah xayawaanka oo ka du...   \n",
      "8843         8843  Waa xubin ka mid ah Midowga Yurub ( EU ) , Qar...   \n",
      "...           ...                                                ...   \n",
      "13540       13540           Badanaa kuma dhacdo madaxa iyo qoorta.\\n   \n",
      "15006       15006                 Ama waxay ilaalin karta guryaha.\\n   \n",
      "5879         5879                                   Asto qoraaleed\\n   \n",
      "830           830                   Kiilo waxeey u dhigantaa 1000.\\n   \n",
      "10447       10447              Waxaana ay ka koobnaayeen 78 degmo.\\n   \n",
      "\n",
      "                                                  target     head1     head2  \\\n",
      "6311   In geology and related fields , a stratum ( pl...  2.573972  3.811937   \n",
      "14797  In 1960 the UK was one of the seven founding m...  3.252828  3.688977   \n",
      "4256   Deer are the hoofed ruminant mammals forming t...  3.059572  3.675799   \n",
      "5319   Mammals ( from Latin \" mamma \" \" breast \" ) ar...  2.945136  3.612522   \n",
      "8843   It is a member of the European Union ( EU ) , ...  3.202178  3.583986   \n",
      "...                                                  ...       ...       ...   \n",
      "13540         They often lose weight and become frail.\\n  0.429393  0.509607   \n",
      "15006      They may be part of a building or external.\\n  0.460823  0.420362   \n",
      "5879   Punctuation ( or sometimes interpunction ) is ...  0.529410  0.410961   \n",
      "830                                 10K may refer to :\\n  0.127423  0.410421   \n",
      "10447  A peace agreement was reached in 1905 , and la...  0.177291  0.323779   \n",
      "\n",
      "          head3     head4     head5     head6     head7     head8  \n",
      "6311   2.720180  2.366337  2.630985  2.716926  2.562457  3.264752  \n",
      "14797  3.277821  3.350767  3.157190  3.402720  3.416360  3.472201  \n",
      "4256   2.736323  2.477871  2.661335  2.459722  2.592531  3.184996  \n",
      "5319   2.642380  2.709134  2.646257  2.417698  2.641674  3.122475  \n",
      "8843   3.116264  3.073600  3.005013  3.354709  3.395575  3.252903  \n",
      "...         ...       ...       ...       ...       ...       ...  \n",
      "13540  0.559058  0.673777  0.113427  0.629284  0.858445  0.747903  \n",
      "15006  0.355548  0.251365  0.060257  0.384368  0.518621  0.383391  \n",
      "5879   0.471501  0.027227  0.000000  0.315830  0.277183  0.441533  \n",
      "830    0.216718  0.108005  0.029706  0.163666  0.376812  0.243639  \n",
      "10447  0.230046  0.135787  0.016161  0.424767  0.696132  0.280634  \n",
      "\n",
      "[15328 rows x 11 columns]>\n"
     ]
    }
   ],
   "source": [
    "print(nextnk.head)\n",
    "nextnk = nextnk.sample(frac=1)"
   ]
  },
  {
   "cell_type": "code",
   "execution_count": 37,
   "metadata": {},
   "outputs": [
    {
     "name": "stdout",
     "output_type": "stream",
     "text": [
      "15080    Wakhtiyadii ka dambeeyay waxaa caan noqotey fi...\n",
      "5506     Maxamed Cabdi Yuusuf wuxuu ku dhashay magaalad...\n",
      "3445     59 waa lambar tiro ka mid ah xisaabta taasi oo...\n",
      "14375    [ 19 ] Jasiiradda ayaa markii hore ahayd qayb ...\n",
      "5507     Maxamed Cali kalaay ( 1942-2016 ) waa feeryaha...\n",
      "                               ...                        \n",
      "8425     [ 2 ] Bishii Nofembar 2014 , Caffe Bene ayaa k...\n",
      "14210    Marka la gaaro sannadka 2019 , adeeggu wuxuu l...\n",
      "10494    Honolulu waa meesha ugu fog ee galbeedka iyo k...\n",
      "10865    Cali iyo Jacfar waxay maalintaas wixii ka danb...\n",
      "7509     Hase yeeshee , qaybta ayaa ka dhigan 98 % wada...\n",
      "Name: source, Length: 15328, dtype: object\n",
      "Maxamed Cabdi Yuusuf wuxuu ku dhashay magaalada Xarardheere ee gobolka Mudug ee dalka Soomaaliya 1dii bishii July , sanadkii 1941dii.\n",
      " Muhammad Abdi Yusuf ( born 1 July 1941 ) was the Prime Minister of Somalia from December 8 , 2003 to November 3 , 2004.\n",
      "\n"
     ]
    }
   ],
   "source": [
    "print(nextnk['source'])\n",
    "source = nextnk['source'].values\n",
    "target = nextnk['target'].values\n",
    "print(source[1],target[1])"
   ]
  },
  {
   "cell_type": "code",
   "execution_count": 38,
   "metadata": {},
   "outputs": [],
   "source": [
    "#saving as file\n",
    "with open(\"head2/8k/train.source\", \"w\") as txt_file:\n",
    "    for line in source:\n",
    "        txt_file.write(line) \n",
    "with open(\"head2/8k/train.target\", \"w\") as file:\n",
    "    for line in target:\n",
    "        file.write(line) "
   ]
  },
  {
   "cell_type": "code",
   "execution_count": 37,
   "metadata": {},
   "outputs": [],
   "source": [
    "df = pd.read_csv('test.csv')\n",
    "source = df['source'].values\n",
    "target = df['target'].values\n",
    "with open(\"test.source\", \"w\") as txt_file:\n",
    "    for line in source:\n",
    "        txt_file.write(line) \n",
    "with open(\"test.target\", \"w\") as file:\n",
    "    for line in target:\n",
    "        file.write(line) "
   ]
  },
  {
   "cell_type": "code",
   "execution_count": 38,
   "metadata": {},
   "outputs": [],
   "source": [
    "df = pd.read_csv('val.csv')\n",
    "source = df['source'].values\n",
    "target = df['target'].values\n",
    "with open(\"val.source\", \"w\") as txt_file:\n",
    "    for line in source:\n",
    "        txt_file.write(line) \n",
    "with open(\"val.target\", \"w\") as file:\n",
    "    for line in target:\n",
    "        file.write(line) "
   ]
  }
 ],
 "metadata": {
  "kernelspec": {
   "display_name": "Python 3",
   "language": "python",
   "name": "python3"
  },
  "language_info": {
   "codemirror_mode": {
    "name": "ipython",
    "version": 3
   },
   "file_extension": ".py",
   "mimetype": "text/x-python",
   "name": "python",
   "nbconvert_exporter": "python",
   "pygments_lexer": "ipython3",
   "version": "3.6.9"
  }
 },
 "nbformat": 4,
 "nbformat_minor": 2
}
